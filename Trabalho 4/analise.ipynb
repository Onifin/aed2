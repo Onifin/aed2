{
  "nbformat": 4,
  "nbformat_minor": 0,
  "metadata": {
    "colab": {
      "provenance": [],
      "collapsed_sections": [
        "vsmv-wGhvdLM",
        "sRamRjXbSl1E",
        "GL6us84JSxvK",
        "lESS6TIClLJx"
      ]
    },
    "kernelspec": {
      "name": "python3",
      "display_name": "Python 3"
    },
    "language_info": {
      "name": "python"
    }
  },
  "cells": [
    {
      "cell_type": "code",
      "source": [
        "%pip install --quiet \\\n",
        "    --upgrade \\\n",
        "    networkx \\\n",
        "    osmnx \\\n",
        "    matplotlib \\\n",
        "    scipy"
      ],
      "metadata": {
        "id": "-vnV-iPTAE6N"
      },
      "execution_count": 1,
      "outputs": []
    },
    {
      "cell_type": "code",
      "source": [
        "import matplotlib.pyplot as plt\n",
        "import numpy as np"
      ],
      "metadata": {
        "id": "UviOZ61njQHp"
      },
      "execution_count": 2,
      "outputs": []
    },
    {
      "cell_type": "markdown",
      "source": [
        "# Dijkstra"
      ],
      "metadata": {
        "id": "vsmv-wGhvdLM"
      }
    },
    {
      "cell_type": "code",
      "source": [
        "def dijkstrasAlgorithmWithPaths(start, edges):\n",
        "    \"\"\"\n",
        "    Implements Dijkstra's algorithm to find the shortest paths from a starting node to all other nodes in a graph.\n",
        "    Additionally, it tracks the path to each node using a predecessor list.\n",
        "\n",
        "    Args:\n",
        "        start (int): The starting node index.\n",
        "        edges (list of list): Adjacency list representing the graph. Each index corresponds to a vertex,\n",
        "                              and each entry is a list of pairs [destination, weight].\n",
        "\n",
        "    Returns:\n",
        "        tuple: A tuple containing:\n",
        "            - minDistances (list): A list of the shortest distances from the starting node to each node.\n",
        "                                   If a node is unreachable, its distance is `inf`.\n",
        "            - previousNodes (list): A list where each index points to the predecessor of the node\n",
        "                                    in the shortest path. `None` if no path exists.\n",
        "    \"\"\"\n",
        "    numberOfVertices = len(edges)\n",
        "\n",
        "    # Initialize the minimum distances with infinity, except for the starting node (distance 0).\n",
        "    minDistances = [float(\"inf\") for _ in range(numberOfVertices)]\n",
        "    minDistances[start] = 0\n",
        "\n",
        "    # Set of visited nodes to avoid re-processing.\n",
        "    visited = set()\n",
        "\n",
        "    # Predecessor list to track the path to each node.\n",
        "    previousNodes = [None] * numberOfVertices\n",
        "\n",
        "    # Iterate until all nodes are processed or no more reachable nodes exist.\n",
        "    while len(visited) != numberOfVertices:\n",
        "        # Find the unvisited node with the smallest known distance.\n",
        "        vertex, currentMinDistance = getVertexWithMinDistance(minDistances, visited)\n",
        "\n",
        "        # If the smallest distance is infinity, remaining nodes are unreachable.\n",
        "        if currentMinDistance == float(\"inf\"):\n",
        "            break\n",
        "\n",
        "        # Mark the current node as visited.\n",
        "        visited.add(vertex)\n",
        "\n",
        "        # Update distances for all neighbors of the current node.\n",
        "        for edge in edges[vertex]:\n",
        "            destination, distanceToDestination = edge\n",
        "\n",
        "            # Skip if the neighbor is already visited.\n",
        "            if destination in visited:\n",
        "                continue\n",
        "\n",
        "            # Calculate the new potential path distance.\n",
        "            newPathDistance = currentMinDistance + distanceToDestination\n",
        "            currentDestinationDistance = minDistances[destination]\n",
        "\n",
        "            # Update the shortest distance and the predecessor if the new path is shorter.\n",
        "            if newPathDistance <= currentDestinationDistance:\n",
        "                minDistances[destination] = newPathDistance\n",
        "                previousNodes[destination] = vertex  # Update predecessor\n",
        "\n",
        "    return minDistances, previousNodes\n",
        "\n",
        "\n",
        "def getVertexWithMinDistance(distances, visited):\n",
        "    \"\"\"\n",
        "    Helper function to find the unvisited node with the smallest known distance.\n",
        "\n",
        "    Args:\n",
        "        distances (list): A list of the shortest known distances to each node.\n",
        "        visited (set): A set of already visited nodes.\n",
        "\n",
        "    Returns:\n",
        "        tuple: The index of the node with the smallest distance and its distance value.\n",
        "    \"\"\"\n",
        "    currentMinDistance = float(\"inf\")\n",
        "    vertex = -1\n",
        "\n",
        "    # Iterate over all nodes to find the one with the smallest distance.\n",
        "    for vertexIdx, distance in enumerate(distances):\n",
        "        if vertexIdx in visited:\n",
        "            continue\n",
        "        if distance <= currentMinDistance:\n",
        "            vertex = vertexIdx\n",
        "            currentMinDistance = distance\n",
        "\n",
        "    return vertex, currentMinDistance"
      ],
      "metadata": {
        "id": "B6LGBh6pvhBV"
      },
      "execution_count": 3,
      "outputs": []
    },
    {
      "cell_type": "markdown",
      "source": [
        "# Dijkstra MinHeap"
      ],
      "metadata": {
        "id": "sRamRjXbSl1E"
      }
    },
    {
      "cell_type": "code",
      "source": [
        "class MinHeap:\n",
        "    \"\"\"\n",
        "    MinHeap class: Implements a MinHeap data structure to efficiently manage vertices and their distances\n",
        "    for algorithms like Dijkstra. This implementation keeps track of the position of each vertex using\n",
        "    a vertex map for constant-time lookups and updates.\n",
        "    \"\"\"\n",
        "    def __init__(self, array):\n",
        "        \"\"\"\n",
        "        Initializes the MinHeap with an input array of (vertex, distance) pairs.\n",
        "\n",
        "        Args:\n",
        "            array (list): List of tuples where each tuple is (vertex, distance).\n",
        "                          The distance is typically initialized to infinity except for the starting vertex.\n",
        "\n",
        "        Attributes:\n",
        "            vertexMap (dict): Maps each vertex to its position in the heap for quick access.\n",
        "            heap (list): List representing the binary heap as an array.\n",
        "        \"\"\"\n",
        "        # Create a vertex map: Maps vertices to their indices in the heap.\n",
        "        self.vertexMap = {idx: idx for idx in range(len(array))}\n",
        "\n",
        "        # Build the heap from the input array to satisfy the heap property.\n",
        "        self.heap = self.buildHeap(array)\n",
        "\n",
        "    def isEmpty(self):\n",
        "        \"\"\"\n",
        "        Checks if the heap is empty.\n",
        "\n",
        "        Returns:\n",
        "            bool: True if the heap is empty, False otherwise.\n",
        "        \"\"\"\n",
        "        return len(self.heap) == 0\n",
        "\n",
        "    def buildHeap(self, array):\n",
        "        \"\"\"\n",
        "        Builds the heap from an input array in O(n) time.\n",
        "\n",
        "        Args:\n",
        "            array (list): List of (vertex, distance) pairs.\n",
        "\n",
        "        Returns:\n",
        "            list: The input array transformed into a valid MinHeap.\n",
        "        \"\"\"\n",
        "        # Start from the first parent node and sift down each node.\n",
        "        firstParentIdx = (len(array) - 2) // 2\n",
        "        for currentIdx in reversed(range(firstParentIdx + 1)):\n",
        "            self.siftDown(currentIdx, len(array) - 1, array)\n",
        "        return array\n",
        "\n",
        "    def siftDown(self, currentIdx, endIdx, heap):\n",
        "        \"\"\"\n",
        "        Restores the heap property by \"sifting down\" a node into its correct position.\n",
        "\n",
        "        Args:\n",
        "            currentIdx (int): Index of the node to sift down.\n",
        "            endIdx (int): Last index in the heap.\n",
        "            heap (list): The heap array.\n",
        "\n",
        "        Complexity:\n",
        "            Time: O(log(n))\n",
        "            Space: O(1)\n",
        "        \"\"\"\n",
        "        childOneIdx = currentIdx * 2 + 1  # Index of the first child\n",
        "        while childOneIdx <= endIdx:\n",
        "            # Determine the index of the second child\n",
        "            childTwoIdx = currentIdx * 2 + 2 if currentIdx * 2 + 2 <= endIdx else -1\n",
        "\n",
        "            # Choose the smaller child to maintain the min-heap property\n",
        "            if childTwoIdx != -1 and heap[childTwoIdx][1] < heap[childOneIdx][1]:\n",
        "                idxToSwap = childTwoIdx\n",
        "            else:\n",
        "                idxToSwap = childOneIdx\n",
        "\n",
        "            # Swap if the child is smaller than the current node\n",
        "            if heap[idxToSwap][1] < heap[currentIdx][1]:\n",
        "                self.swap(currentIdx, idxToSwap, heap)\n",
        "                currentIdx = idxToSwap  # Move to the swapped position\n",
        "                childOneIdx = currentIdx * 2 + 1  # Update the first child index\n",
        "            else:\n",
        "                return\n",
        "\n",
        "    def siftUp(self, currentIdx, heap):\n",
        "        \"\"\"\n",
        "        Restores the heap property by \"sifting up\" a node into its correct position.\n",
        "\n",
        "        Args:\n",
        "            currentIdx (int): Index of the node to sift up.\n",
        "            heap (list): The heap array.\n",
        "\n",
        "        Complexity:\n",
        "            Time: O(log(n))\n",
        "            Space: O(1)\n",
        "        \"\"\"\n",
        "        parentIdx = (currentIdx - 1) // 2  # Calculate parent index\n",
        "        while currentIdx > 0 and heap[currentIdx][1] < heap[parentIdx][1]:\n",
        "            self.swap(currentIdx, parentIdx, heap)  # Swap with parent\n",
        "            currentIdx = parentIdx  # Move to the parent's position\n",
        "            parentIdx = (currentIdx - 1) // 2\n",
        "\n",
        "    def remove(self):\n",
        "        \"\"\"\n",
        "        Removes and returns the smallest element (root) in the heap.\n",
        "\n",
        "        Returns:\n",
        "            tuple: The (vertex, distance) pair with the smallest distance.\n",
        "\n",
        "        Complexity:\n",
        "            Time: O(log(n))\n",
        "            Space: O(1)\n",
        "        \"\"\"\n",
        "        if self.isEmpty():\n",
        "            return None\n",
        "\n",
        "        # Swap the root with the last element and remove it\n",
        "        self.swap(0, len(self.heap) - 1, self.heap)\n",
        "        vertex, distance = self.heap.pop()\n",
        "        self.vertexMap.pop(vertex)  # Remove the vertex from the map\n",
        "\n",
        "        # Restore the heap property\n",
        "        self.siftDown(0, len(self.heap) - 1, self.heap)\n",
        "        return vertex, distance\n",
        "\n",
        "    def swap(self, i, j, heap):\n",
        "        \"\"\"\n",
        "        Swaps two nodes in the heap and updates their positions in the vertexMap.\n",
        "\n",
        "        Args:\n",
        "            i (int): Index of the first node.\n",
        "            j (int): Index of the second node.\n",
        "            heap (list): The heap array.\n",
        "        \"\"\"\n",
        "        self.vertexMap[heap[i][0]] = j  # Update vertexMap for heap[i]\n",
        "        self.vertexMap[heap[j][0]] = i  # Update vertexMap for heap[j]\n",
        "        heap[i], heap[j] = heap[j], heap[i]  # Swap the nodes in the heap\n",
        "\n",
        "    def update(self, vertex, value):\n",
        "        \"\"\"\n",
        "        Updates the distance of a given vertex and restores the heap property.\n",
        "\n",
        "        Args:\n",
        "            vertex (int): The vertex whose distance is to be updated.\n",
        "            value (int): The new distance value.\n",
        "\n",
        "        Complexity:\n",
        "            Time: O(log(n))\n",
        "            Space: O(1)\n",
        "        \"\"\"\n",
        "        # Update the heap with the new (vertex, value) pair\n",
        "        self.heap[self.vertexMap[vertex]] = (vertex, value)\n",
        "        # Restore the heap property by sifting up the updated node\n",
        "        self.siftUp(self.vertexMap[vertex], self.heap)"
      ],
      "metadata": {
        "id": "rSTlmpl1Sw-6"
      },
      "execution_count": 4,
      "outputs": []
    },
    {
      "cell_type": "code",
      "source": [
        "# O((v + e) * log(v)) time | O(v) space — where v is the number\n",
        "# of vertices and e is the number of edges in the input graph\n",
        "def dijkstrasAlgorithm(start, edges):\n",
        "    \"\"\"\n",
        "    Implements Dijkstra's algorithm to find the shortest paths from a starting vertex to all other vertices\n",
        "    in a weighted graph. The graph is represented using an adjacency list.\n",
        "\n",
        "    Args:\n",
        "        start (int): The starting vertex index.\n",
        "        edges (list of list): An adjacency list where each index represents a vertex, and each entry\n",
        "                              is a list of [destination, weight] pairs.\n",
        "\n",
        "    Returns:\n",
        "        list: A list of minimum distances from the starting vertex to each vertex in the graph.\n",
        "              If a vertex is unreachable, its distance is represented as -1.\n",
        "    \"\"\"\n",
        "    # Step 1: Initialize the number of vertices in the graph\n",
        "    numberOfVertices = len(edges)\n",
        "\n",
        "    # Step 2: Initialize the minimum distances with infinity\n",
        "    # Set the starting vertex's distance to 0\n",
        "    minDistances = [float(\"inf\") for _ in range(numberOfVertices)]\n",
        "    minDistances[start] = 0\n",
        "\n",
        "    # Step 3: Initialize the MinHeap to track the vertices and their current shortest distances\n",
        "    minDistancesHeap = MinHeap([(idx, float(\"inf\")) for idx in range(numberOfVertices)])\n",
        "    minDistancesHeap.update(start, 0)  # Update the starting vertex's distance to 0\n",
        "\n",
        "    # Step 4: Process vertices until the heap is empty\n",
        "    while not minDistancesHeap.isEmpty():\n",
        "        # Extract the vertex with the smallest known distance\n",
        "        vertex, currentMinDistance = minDistancesHeap.remove()\n",
        "\n",
        "        # If the current distance is infinity, no further reachable vertices exist\n",
        "        if currentMinDistance == float(\"inf\"):\n",
        "            break\n",
        "\n",
        "        # Step 5: Relaxation - Update distances for all neighboring vertices\n",
        "        for edge in edges[vertex]:\n",
        "            destination, distanceToDestination = edge  # Extract neighbor and weight\n",
        "\n",
        "            # Calculate the new potential path distance\n",
        "            newPathDistance = currentMinDistance + distanceToDestination\n",
        "            currentDestinationDistance = minDistances[destination]\n",
        "\n",
        "            # If the new path is shorter, update the distance and the heap\n",
        "            if newPathDistance < currentDestinationDistance:\n",
        "                minDistances[destination] = newPathDistance\n",
        "                minDistancesHeap.update(destination, newPathDistance)\n",
        "\n",
        "    # Step 6: Convert unreachable vertices' distances from infinity to -1\n",
        "    return list(map(lambda x: -1 if x == float(\"inf\") else x, minDistances))"
      ],
      "metadata": {
        "id": "yvmlA8ufTKL_"
      },
      "execution_count": 5,
      "outputs": []
    },
    {
      "cell_type": "code",
      "source": [
        "def test_dijkstras_algorithm():\n",
        "    \"\"\"\n",
        "    Test function for Dijkstra's algorithm.\n",
        "\n",
        "    This test evaluates the correctness of the `dijkstrasAlgorithm` function using a predefined input graph\n",
        "    and expected output. The graph is represented as an adjacency list, and the test ensures that the\n",
        "    algorithm computes the shortest paths correctly.\n",
        "\n",
        "    Input Graph:\n",
        "        Node 0 -> Node 1 (weight 7)\n",
        "        Node 1 -> Node 2 (weight 6), Node 3 (weight 20), Node 4 (weight 3)\n",
        "        Node 2 -> Node 3 (weight 14)\n",
        "        Node 3 -> Node 4 (weight 2)\n",
        "        Node 4 -> No outgoing edges\n",
        "        Node 5 -> No outgoing edges\n",
        "\n",
        "    Expected Output:\n",
        "        [0, 7, 13, 27, 10, -1]\n",
        "        - Shortest distances from node 0 to all other nodes.\n",
        "        - `-1` represents unreachable nodes (node 5 in this case).\n",
        "\n",
        "    Assertions:\n",
        "        The test checks if the result matches the expected output and raises an assertion error otherwise.\n",
        "\n",
        "    Returns:\n",
        "        None. Prints \"Test passed\" if the output is correct.\n",
        "    \"\"\"\n",
        "    # Input graph represented as an adjacency list\n",
        "    edges = [\n",
        "        [[1, 7]],                   # Node 0 -> Node 1 (weight 7)\n",
        "        [[2, 6], [3, 20], [4, 3]],  # Node 1 -> Node 2 (6), Node 3 (20), Node 4 (3)\n",
        "        [[3, 14]],                  # Node 2 -> Node 3 (weight 14)\n",
        "        [[4, 2]],                   # Node 3 -> Node 4 (weight 2)\n",
        "        [],                         # Node 4 has no outgoing edges\n",
        "        []                          # Node 5 has no outgoing edges\n",
        "    ]\n",
        "    start = 0  # Starting node for Dijkstra's algorithm\n",
        "\n",
        "    # Expected output: Shortest distances from the starting node\n",
        "    expected_output = [0, 7, 13, 27, 10, -1]\n",
        "\n",
        "    # Step 1: Run Dijkstra's algorithm on the input graph\n",
        "    result = dijkstrasAlgorithm(start, edges)\n",
        "\n",
        "    # Step 2: Compare the result with the expected output\n",
        "    assert result == expected_output, f\"Test failed: expected {expected_output}, but got {result}\"\n",
        "\n",
        "    # Step 3: If no assertion error, print test success message\n",
        "    print(\"Test passed: Output matches expected result.\")\n",
        "\n",
        "\n",
        "# Run the test function\n",
        "test_dijkstras_algorithm()"
      ],
      "metadata": {
        "colab": {
          "base_uri": "https://localhost:8080/"
        },
        "id": "ixDI9gS2TafW",
        "outputId": "62fae919-a943-4bde-e960-6f402c77e73a"
      },
      "execution_count": 6,
      "outputs": [
        {
          "output_type": "stream",
          "name": "stdout",
          "text": [
            "Test passed: Output matches expected result.\n"
          ]
        }
      ]
    },
    {
      "cell_type": "code",
      "source": [
        "# def dijkstrasAlgorithmWithPaths(start, edges):\n",
        "#     \"\"\"\n",
        "#     Implements Dijkstra's algorithm to compute the shortest paths from a starting vertex to all other vertices\n",
        "#     in a weighted graph. It also tracks the predecessors of each vertex for path reconstruction.\n",
        "\n",
        "#     Args:\n",
        "#         start (int): The index of the starting vertex.\n",
        "#         edges (list of list): Adjacency list representation of the graph, where each index represents a vertex,\n",
        "#                               and each entry is a list of [destination, weight] pairs.\n",
        "\n",
        "#     Returns:\n",
        "#         tuple: A tuple containing:\n",
        "#             - minDistances (list): A list of the shortest distances from the starting vertex to each vertex.\n",
        "#                                    Vertices that are unreachable will have a distance of `float(\"inf\")`.\n",
        "#             - previousNodes (list): A list where each index points to the predecessor of the vertex\n",
        "#                                     in the shortest path. If no path exists, the predecessor is `None`.\n",
        "\n",
        "#     Algorithm Steps:\n",
        "#         1. Initialize distances with `infinity` and set the starting vertex distance to 0.\n",
        "#         2. Use a MinHeap to manage and efficiently retrieve the vertex with the smallest known distance.\n",
        "#         3. For each vertex, relax its edges to update distances to neighboring vertices.\n",
        "#         4. Track the predecessor of each vertex to allow path reconstruction later.\n",
        "#         5. Return the minimum distances and the list of predecessors.\n",
        "#     \"\"\"\n",
        "#     numberOfVertices = len(edges)  # Total number of vertices in the graph\n",
        "\n",
        "#     # Step 1: Initialize minimum distances and predecessors\n",
        "#     minDistances = [float(\"inf\")] * numberOfVertices  # All distances set to infinity initially\n",
        "#     minDistances[start] = 0  # Distance to the start node is 0\n",
        "\n",
        "#     previousNodes = [None] * numberOfVertices  # Array to store the predecessor of each vertex\n",
        "\n",
        "#     # Step 2: Initialize the MinHeap\n",
        "#     heap = MinHeap([(i, float(\"inf\")) for i in range(numberOfVertices)])\n",
        "#     heap.update(start, 0)  # Update the distance of the starting vertex to 0\n",
        "\n",
        "#     # Step 3: Process vertices until the heap is empty\n",
        "#     while not heap.isEmpty():\n",
        "#         # Extract the vertex with the smallest known distance\n",
        "#         vertex, currentMinDistance = heap.remove()\n",
        "\n",
        "#         # Ignore outdated distances (e.g., if a shorter distance was already found)\n",
        "#         if currentMinDistance > minDistances[vertex]:\n",
        "#             continue\n",
        "\n",
        "#         # Step 4: Relaxation - Update distances to neighboring vertices\n",
        "#         for edge in edges[vertex]:\n",
        "#             destination, weight = edge  # Extract destination vertex and edge weight\n",
        "\n",
        "#             # Calculate the new potential distance to the destination vertex\n",
        "#             newPathDistance = currentMinDistance + weight\n",
        "\n",
        "#             # Update if the new path is shorter\n",
        "#             if newPathDistance <= minDistances[destination]:\n",
        "#                 minDistances[destination] = newPathDistance\n",
        "#                 previousNodes[destination] = vertex  # Track the predecessor for path reconstruction\n",
        "#                 heap.update(destination, newPathDistance)  # Update the heap with the new distance\n",
        "\n",
        "#     return minDistances, previousNodes\n",
        "\n",
        "import heapq\n",
        "from math import inf\n",
        "\n",
        "def dijkstrasAlgorithmWithPathsMinHeap(start, edges):\n",
        "    \"\"\"\n",
        "    Args:\n",
        "        start (int): índice do vértice de origem\n",
        "        edges (list of list): lista de adjacência,\n",
        "            edges[u] = [[v, peso], …]\n",
        "\n",
        "    Returns:\n",
        "        dist (list of float): menor distância de start a cada vértice\n",
        "        prev (list of int|None): predecessor de cada vértice no caminho mínimo\n",
        "    \"\"\"\n",
        "    n = len(edges)\n",
        "    dist = [inf] * n\n",
        "    prev = [None] * n\n",
        "\n",
        "    dist[start] = 0\n",
        "    heap = [(0, start)]  # (distância acumulada, vértice)\n",
        "\n",
        "    while heap:\n",
        "        d_u, u = heapq.heappop(heap)\n",
        "        # se for entrada obsoleta, ignora\n",
        "        if d_u > dist[u]:\n",
        "            continue\n",
        "\n",
        "        for v, w in edges[u]:\n",
        "            nd = d_u + w\n",
        "            if nd < dist[v]:\n",
        "                dist[v] = nd\n",
        "                prev[v] = u\n",
        "                heapq.heappush(heap, (nd, v))\n",
        "\n",
        "    return dist, prev\n"
      ],
      "metadata": {
        "id": "_CYaBDoXTm7B"
      },
      "execution_count": 7,
      "outputs": []
    },
    {
      "cell_type": "code",
      "source": [
        "def reconstructPath(previousNodes, start, end):\n",
        "    \"\"\"\n",
        "    Reconstructs the shortest path from the start node to the end node using the predecessor list.\n",
        "\n",
        "    Args:\n",
        "        previousNodes (list): A list where each index corresponds to a node, and the value at that index\n",
        "                              is the predecessor node in the shortest path. `None` indicates no predecessor.\n",
        "        start (int): The starting node index.\n",
        "        end (int): The destination node index.\n",
        "\n",
        "    Returns:\n",
        "        list: A list of nodes representing the shortest path from the start node to the end node.\n",
        "              If no path exists, returns an empty list.\n",
        "\n",
        "    Algorithm:\n",
        "        1. Start from the destination node (`end`) and trace back to the start node (`start`) using\n",
        "           the `previousNodes` list.\n",
        "        2. Append each node encountered to the `path` list.\n",
        "        3. Reverse the `path` list to produce the correct order from start to end.\n",
        "        4. If no valid path exists (e.g., disconnected graph), return an empty list.\n",
        "\n",
        "    Example:\n",
        "        previousNodes = [None, 0, 1, 2]  # Predecessor list\n",
        "        start = 0\n",
        "        end = 3\n",
        "        reconstructPath(previousNodes, start, end) -> [0, 1, 2, 3]\n",
        "    \"\"\"\n",
        "    path = []  # Initialize an empty list to store the path\n",
        "    currentNode = end  # Start tracing from the destination node\n",
        "\n",
        "    # Step 1: Trace back from the destination node to the start node\n",
        "    while currentNode is not None and currentNode != start:\n",
        "        path.append(currentNode)  # Add the current node to the path\n",
        "        currentNode = previousNodes[currentNode]  # Move to the predecessor node\n",
        "\n",
        "    # Step 2: Add the start node if a valid path was found\n",
        "    if currentNode == start:\n",
        "        path.append(start)  # Add the start node to the path\n",
        "        path.reverse()  # Reverse the path to get the correct order from start to end\n",
        "        return path\n",
        "\n",
        "    # Step 3: If no path exists, return an empty list\n",
        "    return []"
      ],
      "metadata": {
        "id": "e9au1-XLT1VO"
      },
      "execution_count": 8,
      "outputs": []
    },
    {
      "cell_type": "markdown",
      "source": [
        "# osmnx"
      ],
      "metadata": {
        "id": "GL6us84JSxvK"
      }
    },
    {
      "cell_type": "code",
      "execution_count": null,
      "metadata": {
        "colab": {
          "base_uri": "https://localhost:8080/",
          "height": 35
        },
        "id": "Kd6DY5hx_xhQ",
        "outputId": "7647c1c4-4757-4074-9520-9747188b5166"
      },
      "outputs": [
        {
          "output_type": "execute_result",
          "data": {
            "text/plain": [
              "'2.0.3'"
            ],
            "application/vnd.google.colaboratory.intrinsic+json": {
              "type": "string"
            }
          },
          "metadata": {},
          "execution_count": 9
        }
      ],
      "source": [
        "import numpy as np\n",
        "import osmnx as ox\n",
        "\n",
        "np.random.seed(0)\n",
        "ox.__version__"
      ]
    },
    {
      "cell_type": "code",
      "source": [
        "place = \"Natal, Brazil\"\n",
        "G = ox.graph.graph_from_place(place, network_type=\"drive\")\n",
        "Gp = ox.projection.project_graph(G)"
      ],
      "metadata": {
        "id": "zjPOjJUcADnt"
      },
      "execution_count": null,
      "outputs": []
    },
    {
      "cell_type": "code",
      "source": [
        "# 2. Crie um mapeamento de node-id → índice (0, 1, 2, …, N-1)\n",
        "nodes = list(Gp.nodes())\n",
        "idx_map = {node: idx for idx, node in enumerate(nodes)}\n",
        "n = len(nodes)\n",
        "\n",
        "# 3. Construa a lista de adjacência no formato esperado pela sua dijkstra()\n",
        "edges = [[] for _ in range(n)]\n",
        "for u in Gp.nodes():\n",
        "    u_idx = idx_map[u]\n",
        "    for v, key_dict in Gp.adj[u].items():\n",
        "        for key, data in key_dict.items():\n",
        "            length = data.get('length', 1.0)  # peso padrão: comprimento em metros\n",
        "            v_idx = idx_map[v]\n",
        "            edges[u_idx].append([v_idx, length])"
      ],
      "metadata": {
        "id": "PTwRYyqVVOCU"
      },
      "execution_count": null,
      "outputs": []
    },
    {
      "cell_type": "code",
      "source": [
        "lat, lon = -5.787353, -35.201196\n",
        "start_node = ox.distance.nearest_nodes(G, X=lon, Y=lat)\n",
        "start_idx = idx_map[start_node]"
      ],
      "metadata": {
        "id": "ln9q_AD0WxQV"
      },
      "execution_count": null,
      "outputs": []
    },
    {
      "cell_type": "code",
      "source": [
        "start_idx"
      ],
      "metadata": {
        "colab": {
          "base_uri": "https://localhost:8080/"
        },
        "id": "1dGFkebjY5v2",
        "outputId": "8e6ed2f7-206a-4bd9-83cb-3332f1c734a2"
      },
      "execution_count": null,
      "outputs": [
        {
          "output_type": "execute_result",
          "data": {
            "text/plain": [
              "532"
            ]
          },
          "metadata": {},
          "execution_count": 13
        }
      ]
    },
    {
      "cell_type": "code",
      "source": [
        "destinos = {\n",
        "    \"Neópolis\": (-5.86689, -35.20861),\n",
        "    \"Candelária\": (-5.843962, -35.210331),\n",
        "    \"Capim Macio\": (-5.860582, -35.203835),\n",
        "}"
      ],
      "metadata": {
        "id": "3ehK2JJbdFA0"
      },
      "execution_count": null,
      "outputs": []
    },
    {
      "cell_type": "code",
      "source": [
        "lat, lon = destinos['Neópolis']\n",
        "dest_node = ox.distance.nearest_nodes(G, X=lon, Y=lat)\n",
        "dest_idx = idx_map[dest_node]"
      ],
      "metadata": {
        "id": "vPsgxst6XMQh"
      },
      "execution_count": null,
      "outputs": []
    },
    {
      "cell_type": "code",
      "source": [
        "dest_idx"
      ],
      "metadata": {
        "colab": {
          "base_uri": "https://localhost:8080/"
        },
        "id": "AUhmJlsZY3YN",
        "outputId": "7d86597e-d0aa-41f6-b96f-6c17b7686539"
      },
      "execution_count": null,
      "outputs": [
        {
          "output_type": "execute_result",
          "data": {
            "text/plain": [
              "5621"
            ]
          },
          "metadata": {},
          "execution_count": 16
        }
      ]
    },
    {
      "cell_type": "code",
      "source": [
        "caminho = reconstructPath(previousNodes, start_idx, dest_idx)\n",
        "caminho_node_ids = [nodes[i] for i in caminho]"
      ],
      "metadata": {
        "id": "CgKh_l-nihXu"
      },
      "execution_count": null,
      "outputs": []
    },
    {
      "cell_type": "code",
      "source": [
        "\n",
        "# plota o grafo e sobrepõe o caminho\n",
        "fig, ax = ox.plot_graph_route(\n",
        "    G,\n",
        "    caminho_node_ids,\n",
        "    route_color=\"yellow\",      # cor da linha\n",
        "    route_linewidth=4,         # espessura\n",
        "    node_size=0,               # esconde os nós originais\n",
        "    show=False,                # adia o plt.show()\n",
        "    close=False                # mantém figura aberta para customizações\n",
        ")\n"
      ],
      "metadata": {
        "id": "ENrsS4S9itCi"
      },
      "execution_count": null,
      "outputs": []
    },
    {
      "cell_type": "code",
      "source": [
        "orig = list(G)[0]\n",
        "lat, lon = destinos['Neópolis']\n",
        "dest = ox.distance.nearest_nodes(G, X=lon, Y=lat)\n",
        "route = ox.routing.shortest_path(G, orig, dest, weight=\"length\")\n",
        "fig, ax = ox.plot.plot_graph_route(G, route, route_color=\"y\", route_linewidth=6, node_size=0)"
      ],
      "metadata": {
        "id": "iaoMe5LQA2Hu"
      },
      "execution_count": null,
      "outputs": []
    },
    {
      "cell_type": "markdown",
      "source": [
        "# Code Carbon"
      ],
      "metadata": {
        "id": "lESS6TIClLJx"
      }
    },
    {
      "cell_type": "code",
      "source": [
        "%pip install codecarbon"
      ],
      "metadata": {
        "colab": {
          "base_uri": "https://localhost:8080/"
        },
        "id": "2_kGgSvPlOT2",
        "outputId": "630a4001-bf61-42c9-ac7e-fb8dc579be0a"
      },
      "execution_count": 9,
      "outputs": [
        {
          "output_type": "stream",
          "name": "stdout",
          "text": [
            "Requirement already satisfied: codecarbon in /usr/local/lib/python3.11/dist-packages (3.0.1)\n",
            "Requirement already satisfied: arrow in /usr/local/lib/python3.11/dist-packages (from codecarbon) (1.3.0)\n",
            "Requirement already satisfied: click in /usr/local/lib/python3.11/dist-packages (from codecarbon) (8.1.8)\n",
            "Requirement already satisfied: fief-client[cli] in /usr/local/lib/python3.11/dist-packages (from codecarbon) (0.20.0)\n",
            "Requirement already satisfied: pandas in /usr/local/lib/python3.11/dist-packages (from codecarbon) (2.2.2)\n",
            "Requirement already satisfied: prometheus-client in /usr/local/lib/python3.11/dist-packages (from codecarbon) (0.21.1)\n",
            "Requirement already satisfied: psutil>=6.0.0 in /usr/local/lib/python3.11/dist-packages (from codecarbon) (7.0.0)\n",
            "Requirement already satisfied: py-cpuinfo in /usr/local/lib/python3.11/dist-packages (from codecarbon) (9.0.0)\n",
            "Requirement already satisfied: pydantic in /usr/local/lib/python3.11/dist-packages (from codecarbon) (2.11.4)\n",
            "Requirement already satisfied: pynvml in /usr/local/lib/python3.11/dist-packages (from codecarbon) (12.0.0)\n",
            "Requirement already satisfied: questionary in /usr/local/lib/python3.11/dist-packages (from codecarbon) (2.1.0)\n",
            "Requirement already satisfied: rapidfuzz in /usr/local/lib/python3.11/dist-packages (from codecarbon) (3.13.0)\n",
            "Requirement already satisfied: requests in /usr/local/lib/python3.11/dist-packages (from codecarbon) (2.32.3)\n",
            "Requirement already satisfied: rich in /usr/local/lib/python3.11/dist-packages (from codecarbon) (13.9.4)\n",
            "Requirement already satisfied: typer in /usr/local/lib/python3.11/dist-packages (from codecarbon) (0.15.3)\n",
            "Requirement already satisfied: python-dateutil>=2.7.0 in /usr/local/lib/python3.11/dist-packages (from arrow->codecarbon) (2.9.0.post0)\n",
            "Requirement already satisfied: types-python-dateutil>=2.8.10 in /usr/local/lib/python3.11/dist-packages (from arrow->codecarbon) (2.9.0.20241206)\n",
            "Requirement already satisfied: httpx<0.28.0,>=0.21.3 in /usr/local/lib/python3.11/dist-packages (from fief-client[cli]->codecarbon) (0.27.2)\n",
            "Requirement already satisfied: jwcrypto<2.0.0,>=1.4 in /usr/local/lib/python3.11/dist-packages (from fief-client[cli]->codecarbon) (1.5.6)\n",
            "Requirement already satisfied: yaspin in /usr/local/lib/python3.11/dist-packages (from fief-client[cli]->codecarbon) (3.1.0)\n",
            "Requirement already satisfied: numpy>=1.23.2 in /usr/local/lib/python3.11/dist-packages (from pandas->codecarbon) (2.0.2)\n",
            "Requirement already satisfied: pytz>=2020.1 in /usr/local/lib/python3.11/dist-packages (from pandas->codecarbon) (2025.2)\n",
            "Requirement already satisfied: tzdata>=2022.7 in /usr/local/lib/python3.11/dist-packages (from pandas->codecarbon) (2025.2)\n",
            "Requirement already satisfied: annotated-types>=0.6.0 in /usr/local/lib/python3.11/dist-packages (from pydantic->codecarbon) (0.7.0)\n",
            "Requirement already satisfied: pydantic-core==2.33.2 in /usr/local/lib/python3.11/dist-packages (from pydantic->codecarbon) (2.33.2)\n",
            "Requirement already satisfied: typing-extensions>=4.12.2 in /usr/local/lib/python3.11/dist-packages (from pydantic->codecarbon) (4.13.2)\n",
            "Requirement already satisfied: typing-inspection>=0.4.0 in /usr/local/lib/python3.11/dist-packages (from pydantic->codecarbon) (0.4.0)\n",
            "Requirement already satisfied: nvidia-ml-py<13.0.0a0,>=12.0.0 in /usr/local/lib/python3.11/dist-packages (from pynvml->codecarbon) (12.570.86)\n",
            "Requirement already satisfied: prompt_toolkit<4.0,>=2.0 in /usr/local/lib/python3.11/dist-packages (from questionary->codecarbon) (3.0.51)\n",
            "Requirement already satisfied: charset-normalizer<4,>=2 in /usr/local/lib/python3.11/dist-packages (from requests->codecarbon) (3.4.1)\n",
            "Requirement already satisfied: idna<4,>=2.5 in /usr/local/lib/python3.11/dist-packages (from requests->codecarbon) (3.10)\n",
            "Requirement already satisfied: urllib3<3,>=1.21.1 in /usr/local/lib/python3.11/dist-packages (from requests->codecarbon) (2.4.0)\n",
            "Requirement already satisfied: certifi>=2017.4.17 in /usr/local/lib/python3.11/dist-packages (from requests->codecarbon) (2025.4.26)\n",
            "Requirement already satisfied: markdown-it-py>=2.2.0 in /usr/local/lib/python3.11/dist-packages (from rich->codecarbon) (3.0.0)\n",
            "Requirement already satisfied: pygments<3.0.0,>=2.13.0 in /usr/local/lib/python3.11/dist-packages (from rich->codecarbon) (2.19.1)\n",
            "Requirement already satisfied: shellingham>=1.3.0 in /usr/local/lib/python3.11/dist-packages (from typer->codecarbon) (1.5.4)\n",
            "Requirement already satisfied: anyio in /usr/local/lib/python3.11/dist-packages (from httpx<0.28.0,>=0.21.3->fief-client[cli]->codecarbon) (4.9.0)\n",
            "Requirement already satisfied: httpcore==1.* in /usr/local/lib/python3.11/dist-packages (from httpx<0.28.0,>=0.21.3->fief-client[cli]->codecarbon) (1.0.9)\n",
            "Requirement already satisfied: sniffio in /usr/local/lib/python3.11/dist-packages (from httpx<0.28.0,>=0.21.3->fief-client[cli]->codecarbon) (1.3.1)\n",
            "Requirement already satisfied: h11>=0.16 in /usr/local/lib/python3.11/dist-packages (from httpcore==1.*->httpx<0.28.0,>=0.21.3->fief-client[cli]->codecarbon) (0.16.0)\n",
            "Requirement already satisfied: cryptography>=3.4 in /usr/local/lib/python3.11/dist-packages (from jwcrypto<2.0.0,>=1.4->fief-client[cli]->codecarbon) (43.0.3)\n",
            "Requirement already satisfied: mdurl~=0.1 in /usr/local/lib/python3.11/dist-packages (from markdown-it-py>=2.2.0->rich->codecarbon) (0.1.2)\n",
            "Requirement already satisfied: wcwidth in /usr/local/lib/python3.11/dist-packages (from prompt_toolkit<4.0,>=2.0->questionary->codecarbon) (0.2.13)\n",
            "Requirement already satisfied: six>=1.5 in /usr/local/lib/python3.11/dist-packages (from python-dateutil>=2.7.0->arrow->codecarbon) (1.17.0)\n",
            "Requirement already satisfied: termcolor<2.4.0,>=2.2.0 in /usr/local/lib/python3.11/dist-packages (from yaspin->fief-client[cli]->codecarbon) (2.3.0)\n",
            "Requirement already satisfied: cffi>=1.12 in /usr/local/lib/python3.11/dist-packages (from cryptography>=3.4->jwcrypto<2.0.0,>=1.4->fief-client[cli]->codecarbon) (1.17.1)\n",
            "Requirement already satisfied: pycparser in /usr/local/lib/python3.11/dist-packages (from cffi>=1.12->cryptography>=3.4->jwcrypto<2.0.0,>=1.4->fief-client[cli]->codecarbon) (2.22)\n"
          ]
        }
      ]
    },
    {
      "cell_type": "code",
      "source": [
        "from codecarbon import EmissionsTracker\n",
        "\n",
        "tracker = EmissionsTracker()\n",
        "tracker.start()\n",
        "\n",
        "# Seu código\n",
        "for _ in range(10**7):\n",
        "    pass\n",
        "\n",
        "tracker.stop()"
      ],
      "metadata": {
        "colab": {
          "base_uri": "https://localhost:8080/"
        },
        "id": "h1taYuslm4K9",
        "outputId": "e017fad2-30ed-4de1-ef48-a202fd62ff2f"
      },
      "execution_count": 10,
      "outputs": [
        {
          "output_type": "stream",
          "name": "stderr",
          "text": [
            "[codecarbon WARNING @ 16:15:55] Multiple instances of codecarbon are allowed to run at the same time.\n",
            "[codecarbon INFO @ 16:15:55] [setup] RAM Tracking...\n",
            "[codecarbon INFO @ 16:15:55] [setup] CPU Tracking...\n",
            "[codecarbon WARNING @ 16:15:57] We saw that you have a Intel(R) Xeon(R) CPU @ 2.20GHz but we don't know it. Please contact us.\n",
            "[codecarbon WARNING @ 16:15:57] No CPU tracking mode found. Falling back on estimation based on TDP for CPU. \n",
            " Linux OS detected: Please ensure RAPL files exist at /sys/class/powercap/intel-rapl/subsystem to measure CPU\n",
            "\n",
            "[codecarbon INFO @ 16:15:57] CPU Model on constant consumption mode: Intel(R) Xeon(R) CPU @ 2.20GHz\n",
            "[codecarbon WARNING @ 16:15:57] No CPU tracking mode found. Falling back on CPU constant mode.\n",
            "[codecarbon INFO @ 16:15:57] [setup] GPU Tracking...\n",
            "[codecarbon INFO @ 16:15:57] No GPU found.\n",
            "[codecarbon INFO @ 16:15:57] The below tracking methods have been set up:\n",
            "                RAM Tracking Method: RAM power estimation model\n",
            "                CPU Tracking Method: global constant\n",
            "                GPU Tracking Method: Unspecified\n",
            "            \n",
            "[codecarbon INFO @ 16:15:57] >>> Tracker's metadata:\n",
            "[codecarbon INFO @ 16:15:57]   Platform system: Linux-6.1.123+-x86_64-with-glibc2.35\n",
            "[codecarbon INFO @ 16:15:57]   Python version: 3.11.12\n",
            "[codecarbon INFO @ 16:15:57]   CodeCarbon version: 3.0.1\n",
            "[codecarbon INFO @ 16:15:57]   Available RAM : 12.674 GB\n",
            "[codecarbon INFO @ 16:15:57]   CPU count: 2 thread(s) in 1 physical CPU(s)\n",
            "[codecarbon INFO @ 16:15:57]   CPU model: Intel(R) Xeon(R) CPU @ 2.20GHz\n",
            "[codecarbon INFO @ 16:15:57]   GPU count: None\n",
            "[codecarbon INFO @ 16:15:57]   GPU model: None\n",
            "[codecarbon INFO @ 16:15:57] Emissions data (if any) will be saved to file /content/emissions.csv\n",
            "[codecarbon INFO @ 16:15:58] Energy consumed for RAM : 0.000001 kWh. RAM Power : 10.0 W\n",
            "[codecarbon INFO @ 16:15:58] Delta energy consumed for CPU with constant : 0.000006 kWh, power : 42.5 W\n",
            "[codecarbon INFO @ 16:15:58] Energy consumed for All CPU : 0.000006 kWh\n",
            "[codecarbon INFO @ 16:15:58] 0.000008 kWh of electricity used since the beginning.\n"
          ]
        },
        {
          "output_type": "execute_result",
          "data": {
            "text/plain": [
              "4.945056691972886e-06"
            ]
          },
          "metadata": {},
          "execution_count": 10
        }
      ]
    },
    {
      "cell_type": "markdown",
      "source": [
        "# Teste algoritmos"
      ],
      "metadata": {
        "id": "Zal4hcTBnfMl"
      }
    },
    {
      "cell_type": "code",
      "source": [
        "import numpy as np\n",
        "import osmnx as ox\n",
        "import matplotlib.pyplot as plt\n",
        "import time\n",
        "import networkx as nx\n",
        "\n",
        "np.random.seed(0)\n",
        "ox.__version__"
      ],
      "metadata": {
        "colab": {
          "base_uri": "https://localhost:8080/",
          "height": 35
        },
        "id": "wAyYZmAiovp2",
        "outputId": "b1887c3c-2cb5-4dbc-a8d4-9c69edaa1372"
      },
      "execution_count": 11,
      "outputs": [
        {
          "output_type": "execute_result",
          "data": {
            "text/plain": [
              "'2.0.3'"
            ],
            "application/vnd.google.colaboratory.intrinsic+json": {
              "type": "string"
            }
          },
          "metadata": {},
          "execution_count": 11
        }
      ]
    },
    {
      "cell_type": "code",
      "source": [
        "# Definindo grafo da cidade de Natal\n",
        "\n",
        "place = \"Natal, Brazil\"\n",
        "G = ox.graph.graph_from_place(place, network_type=\"drive\")\n",
        "Gp = ox.projection.project_graph(G)"
      ],
      "metadata": {
        "id": "YCsSW27DnmXY"
      },
      "execution_count": 12,
      "outputs": []
    },
    {
      "cell_type": "code",
      "source": [
        "# Defininido origem e destinos\n",
        "\n",
        "origem = ox.geocode(\"Avenida Prudente de Morais, Natal, Brazil\")\n",
        "destinos = {\n",
        "    \"Neópolis\": ox.geocode(\"Neópolis, Natal, Brazil\"),\n",
        "    \"Candelária\": ox.geocode(\"Candelária, Natal, Brazil\"),\n",
        "    \"Capim Macio\": ox.geocode(\"Capim Macio, Natal, Brazil\"),\n",
        "}"
      ],
      "metadata": {
        "id": "saICYRoeqiro"
      },
      "execution_count": 13,
      "outputs": []
    },
    {
      "cell_type": "code",
      "source": [
        "# Mapeando o id dos nós aos seu índices\n",
        "nodes = list(G.nodes())\n",
        "idx_map = {node: idx for idx, node in enumerate(nodes)}\n",
        "n = len(nodes)\n",
        "\n",
        "# Construindo a lista de adjacência no formato esperado pela função dijkstra\n",
        "edges = [[] for _ in range(n)]\n",
        "for u in G.nodes():\n",
        "    u_idx = idx_map[u]\n",
        "    for v, key_dict in G.adj[u].items():\n",
        "        for key, data in key_dict.items():\n",
        "            length = data.get('length', 1.0)  # peso padrão: comprimento em metros\n",
        "            v_idx = idx_map[v]\n",
        "            edges[u_idx].append([v_idx, length])"
      ],
      "metadata": {
        "id": "FMLntIrMsCng"
      },
      "execution_count": 14,
      "outputs": []
    },
    {
      "cell_type": "code",
      "source": [
        "def dijkstra_pipeline(G, origem, destinos, edges, idx_map):\n",
        "    \"\"\"\n",
        "    Runs Dijkstra from origem to multiple destinos on OSMnx graph G.\n",
        "    Measures carbon emissions, reconstructs and plots each path, saving each to a PDF.\n",
        "\n",
        "    Args:\n",
        "        G (networkx.MultiDiGraph): grafo OSMnx não projetado (lat/lon).\n",
        "        origem (tuple): (latitude, longitude) da origem.\n",
        "        destinos (dict): {nome: (lat, lon)} de destinos.\n",
        "        edges (list): adjacency list, edges[u] = [[v, peso], ...].\n",
        "        idx_map (dict): mapeamento node_id -> índice em edges.\n",
        "    \"\"\"\n",
        "    # tracker para emissões de carbono\n",
        "    tracker = EmissionsTracker()\n",
        "\n",
        "    # converte origem para node e índice\n",
        "    lat_o, lon_o = origem\n",
        "    orig_node = ox.distance.nearest_nodes(G, X=lon_o, Y=lat_o)\n",
        "    start_idx = idx_map[orig_node]\n",
        "\n",
        "    # executa Dijkstra\n",
        "    tracker.start()\n",
        "    inicio = time.perf_counter()\n",
        "    minDistances, previousNodes = dijkstrasAlgorithmWithPaths(start_idx, edges)\n",
        "    fim = time.perf_counter()\n",
        "    tempo = fim - inicio\n",
        "    emissions = tracker.stop()\n",
        "    print(f\"Emissões de carbono estimadas: {emissions} kg CO₂\")\n",
        "\n",
        "    # mapeia índice -> node_id list\n",
        "    nodes = list(G.nodes())\n",
        "\n",
        "    # para cada destino\n",
        "    for name, (lat_d, lon_d) in destinos.items():\n",
        "        dest_node = ox.distance.nearest_nodes(G, X=lon_d, Y=lat_d)\n",
        "        dest_idx = idx_map[dest_node]\n",
        "        tracker.start()\n",
        "        inicio = time.perf_counter()\n",
        "        path_idxs = reconstructPath(previousNodes, start_idx, dest_idx)\n",
        "        fim = time.perf_counter()\n",
        "        emissions += tracker.stop()\n",
        "        tempo += fim - inicio\n",
        "        if not path_idxs:\n",
        "            print(f\"Sem caminho para destino {name}\")\n",
        "            continue\n",
        "\n",
        "        # converte para node IDs\n",
        "        path_node_ids = [nodes[i] for i in path_idxs]\n",
        "\n",
        "        fig, ax = ox.plot_graph_route(\n",
        "            G,                  # <- grafo projetado, compatível com edges\n",
        "            path_node_ids,\n",
        "            route_color=\"yellow\",\n",
        "            route_linewidth=4,\n",
        "            node_size=0,\n",
        "            show=False,\n",
        "            close=False\n",
        "        )\n",
        "\n",
        "        ax.set_title(f\"Rota da Avenida Prudente de Morais até {name} (Dijkstra)\")\n",
        "        plt.savefig(f\"rota_dijkstra_{name}.pdf\", format='pdf', bbox_inches='tight')\n",
        "        plt.close(fig)\n",
        "\n",
        "    return emissions, tempo"
      ],
      "metadata": {
        "id": "BRllWzeZtTIH"
      },
      "execution_count": 15,
      "outputs": []
    },
    {
      "cell_type": "code",
      "source": [
        "def dijkstra_min_heap_pipeline(G, origem, destinos, edges, idx_map):\n",
        "    \"\"\"\n",
        "    Runs Dijkstra from origem to multiple destinos on OSMnx graph G.\n",
        "    Measures carbon emissions, reconstructs and plots each path, saving each to a PDF.\n",
        "\n",
        "    Args:\n",
        "        G (networkx.MultiDiGraph): grafo OSMnx não projetado (lat/lon).\n",
        "        origem (tuple): (latitude, longitude) da origem.\n",
        "        destinos (dict): {nome: (lat, lon)} de destinos.\n",
        "        edges (list): adjacency list, edges[u] = [[v, peso], ...].\n",
        "        idx_map (dict): mapeamento node_id -> índice em edges.\n",
        "    \"\"\"\n",
        "    # tracker para emissões de carbono\n",
        "    tracker = EmissionsTracker()\n",
        "\n",
        "    # converte origem para node e índice\n",
        "    lat_o, lon_o = origem\n",
        "    orig_node = ox.distance.nearest_nodes(G, X=lon_o, Y=lat_o)\n",
        "    start_idx = idx_map[orig_node]\n",
        "\n",
        "    # executa Dijkstra\n",
        "    tracker.start()\n",
        "    inicio = time.perf_counter()\n",
        "    minDistances, previousNodes = dijkstrasAlgorithmWithPathsMinHeap(start_idx, edges)\n",
        "    fim = time.perf_counter()\n",
        "    tempo = fim - inicio\n",
        "    emissions = tracker.stop()\n",
        "    print(f\"Emissões de carbono estimadas: {emissions} kg CO₂\")\n",
        "\n",
        "    # mapeia índice -> node_id list\n",
        "    nodes = list(G.nodes())\n",
        "\n",
        "    # para cada destino\n",
        "    for name, (lat_d, lon_d) in destinos.items():\n",
        "        dest_node = ox.distance.nearest_nodes(G, X=lon_d, Y=lat_d)\n",
        "        dest_idx = idx_map[dest_node]\n",
        "        tracker.start()\n",
        "        inicio = time.perf_counter()\n",
        "        path_idxs = reconstructPath(previousNodes, start_idx, dest_idx)\n",
        "        fim = time.perf_counter()\n",
        "        tempo += fim - inicio\n",
        "        emissions += tracker.stop()\n",
        "        if not path_idxs:\n",
        "            print(f\"Sem caminho para destino {name}\")\n",
        "            continue\n",
        "\n",
        "        # converte para node IDs\n",
        "        path_node_ids = [nodes[i] for i in path_idxs]\n",
        "\n",
        "        fig, ax = ox.plot_graph_route(\n",
        "            G,                  # <- grafo projetado, compatível com edges\n",
        "            path_node_ids,\n",
        "            route_color=\"yellow\",\n",
        "            route_linewidth=4,\n",
        "            node_size=0,\n",
        "            show=False,\n",
        "            close=False\n",
        "        )\n",
        "\n",
        "        ax.set_title(f\"Rota da Avenida Prudente de Morais até {name} (Dijkstra com min heap)\")\n",
        "        plt.savefig(f\"rota_dijkstra_min_heap_{name}.pdf\", format='pdf', bbox_inches='tight')\n",
        "        plt.close(fig)\n",
        "\n",
        "    return emissions, tempo"
      ],
      "metadata": {
        "id": "0wiAJEfq3jFS"
      },
      "execution_count": 16,
      "outputs": []
    },
    {
      "cell_type": "code",
      "source": [
        "def shortest_path_pipeline(G, origem, destinos):\n",
        "    \"\"\"\n",
        "    Uses OSMnx built-in routing to compute shortest paths for multiple destinos.\n",
        "    Tracks carbon emissions and saves each route plot to a PDF.\n",
        "\n",
        "    Args:\n",
        "        G (networkx.MultiDiGraph): grafo OSMnx não projetado (lat/lon).\n",
        "        origem (tuple): (latitude, longitude) da origem.\n",
        "        destinos (dict): {nome: (lat, lon)} de destinos.\n",
        "    \"\"\"\n",
        "    tracker = EmissionsTracker()\n",
        "\n",
        "    # converte origem pra node\n",
        "    lat_o, lon_o = origem\n",
        "    orig_node = ox.distance.nearest_nodes(G, X=lon_o, Y=lat_o)\n",
        "    emissions = 0\n",
        "    tempo = 0\n",
        "    # para cada destino, calcula rota e plota\n",
        "    for name, (lat_d, lon_d) in destinos.items():\n",
        "        dest_node = ox.distance.nearest_nodes(G, X=lon_d, Y=lat_d)\n",
        "        try:\n",
        "            tracker.start()\n",
        "            inicio = time.perf_counter()\n",
        "            route = ox.routing.shortest_path(G, orig_node, dest_node, weight='length')\n",
        "            fim = time.perf_counter()\n",
        "            tempo += fim - inicio\n",
        "            emissions += tracker.stop()\n",
        "        except Exception as e:\n",
        "            print(f\"Erro ao calcular rota para {name}: {e}\")\n",
        "            continue\n",
        "        # plota\n",
        "        fig, ax = ox.plot_graph_route(\n",
        "            G, route,\n",
        "            route_color=\"red\", route_linewidth=4, node_size=0,\n",
        "            show=False, close=False\n",
        "        )\n",
        "        ax.set_title(f\"Rota OSMnx: {origem} → {name}\")\n",
        "        plt.savefig(f\"rota_osmnx_{name}.pdf\", format='pdf', bbox_inches='tight')\n",
        "        plt.close(fig)\n",
        "\n",
        "    print(f\"Emissões de carbono estimadas (OSMnx): {emissions} kg CO₂\")\n",
        "    print(\"Pipeline OSMnx concluída. PDFs gerados.\")\n",
        "    return emissions, tempo\n"
      ],
      "metadata": {
        "id": "VcxJjSv14lpH"
      },
      "execution_count": 17,
      "outputs": []
    },
    {
      "cell_type": "code",
      "source": [
        "carb_dijkstra, time_dijkstra = dijkstra_pipeline(G, origem, destinos, edges, idx_map)\n",
        "carb_dijkstra_min_heap, time_dijkstra_min_heap = dijkstra_min_heap_pipeline(G, origem, destinos, edges, idx_map)\n",
        "carb_ox, time_ox = shortest_path_pipeline(G, origem, destinos)"
      ],
      "metadata": {
        "colab": {
          "base_uri": "https://localhost:8080/"
        },
        "id": "MUsWUG5dr1dU",
        "outputId": "2fdcabf3-b1f3-4635-c8c1-bafdc87ef30f"
      },
      "execution_count": 18,
      "outputs": [
        {
          "output_type": "stream",
          "name": "stderr",
          "text": [
            "[codecarbon WARNING @ 16:17:53] Multiple instances of codecarbon are allowed to run at the same time.\n",
            "[codecarbon INFO @ 16:17:54] [setup] RAM Tracking...\n",
            "[codecarbon INFO @ 16:17:54] [setup] CPU Tracking...\n",
            "[codecarbon WARNING @ 16:17:55] We saw that you have a Intel(R) Xeon(R) CPU @ 2.20GHz but we don't know it. Please contact us.\n",
            "[codecarbon WARNING @ 16:17:55] No CPU tracking mode found. Falling back on estimation based on TDP for CPU. \n",
            " Linux OS detected: Please ensure RAPL files exist at /sys/class/powercap/intel-rapl/subsystem to measure CPU\n",
            "\n",
            "[codecarbon INFO @ 16:17:55] CPU Model on constant consumption mode: Intel(R) Xeon(R) CPU @ 2.20GHz\n",
            "[codecarbon WARNING @ 16:17:55] No CPU tracking mode found. Falling back on CPU constant mode.\n",
            "[codecarbon INFO @ 16:17:55] [setup] GPU Tracking...\n",
            "[codecarbon INFO @ 16:17:55] No GPU found.\n",
            "[codecarbon INFO @ 16:17:55] The below tracking methods have been set up:\n",
            "                RAM Tracking Method: RAM power estimation model\n",
            "                CPU Tracking Method: global constant\n",
            "                GPU Tracking Method: Unspecified\n",
            "            \n",
            "[codecarbon INFO @ 16:17:55] >>> Tracker's metadata:\n",
            "[codecarbon INFO @ 16:17:55]   Platform system: Linux-6.1.123+-x86_64-with-glibc2.35\n",
            "[codecarbon INFO @ 16:17:55]   Python version: 3.11.12\n",
            "[codecarbon INFO @ 16:17:55]   CodeCarbon version: 3.0.1\n",
            "[codecarbon INFO @ 16:17:55]   Available RAM : 12.674 GB\n",
            "[codecarbon INFO @ 16:17:55]   CPU count: 2 thread(s) in 1 physical CPU(s)\n",
            "[codecarbon INFO @ 16:17:55]   CPU model: Intel(R) Xeon(R) CPU @ 2.20GHz\n",
            "[codecarbon INFO @ 16:17:55]   GPU count: None\n",
            "[codecarbon INFO @ 16:17:55]   GPU model: None\n",
            "[codecarbon INFO @ 16:17:55] Emissions data (if any) will be saved to file /content/emissions.csv\n",
            "[codecarbon INFO @ 16:18:10] Energy consumed for RAM : 0.000042 kWh. RAM Power : 10.0 W\n",
            "[codecarbon INFO @ 16:18:10] Delta energy consumed for CPU with constant : 0.000177 kWh, power : 42.5 W\n",
            "[codecarbon INFO @ 16:18:10] Energy consumed for All CPU : 0.000177 kWh\n",
            "[codecarbon INFO @ 16:18:10] 0.000219 kWh of electricity used since the beginning.\n",
            "[codecarbon INFO @ 16:18:25] Energy consumed for RAM : 0.000083 kWh. RAM Power : 10.0 W\n",
            "[codecarbon INFO @ 16:18:25] Delta energy consumed for CPU with constant : 0.000177 kWh, power : 42.5 W\n",
            "[codecarbon INFO @ 16:18:25] Energy consumed for All CPU : 0.000354 kWh\n",
            "[codecarbon INFO @ 16:18:25] 0.000438 kWh of electricity used since the beginning.\n",
            "[codecarbon INFO @ 16:18:32] Energy consumed for RAM : 0.000102 kWh. RAM Power : 10.0 W\n",
            "[codecarbon INFO @ 16:18:32] Delta energy consumed for CPU with constant : 0.000078 kWh, power : 42.5 W\n",
            "[codecarbon INFO @ 16:18:32] Energy consumed for All CPU : 0.000433 kWh\n",
            "[codecarbon INFO @ 16:18:32] 0.000534 kWh of electricity used since the beginning.\n",
            "[codecarbon WARNING @ 16:18:32] Already started tracking\n",
            "[codecarbon WARNING @ 16:18:32] Tracker already stopped !\n",
            "[codecarbon INFO @ 16:18:32] Energy consumed for RAM : 0.000102 kWh. RAM Power : 10.0 W\n",
            "[codecarbon INFO @ 16:18:32] Delta energy consumed for CPU with constant : 0.000001 kWh, power : 42.5 W\n",
            "[codecarbon INFO @ 16:18:32] Energy consumed for All CPU : 0.000433 kWh\n",
            "[codecarbon INFO @ 16:18:32] 0.000535 kWh of electricity used since the beginning.\n"
          ]
        },
        {
          "output_type": "stream",
          "name": "stdout",
          "text": [
            "Emissões de carbono estimadas: 0.0003432508211618304 kg CO₂\n"
          ]
        },
        {
          "output_type": "stream",
          "name": "stderr",
          "text": [
            "[codecarbon WARNING @ 16:18:46] Already started tracking\n",
            "[codecarbon WARNING @ 16:18:46] Tracker already stopped !\n",
            "[codecarbon INFO @ 16:18:46] Energy consumed for RAM : 0.000142 kWh. RAM Power : 10.0 W\n",
            "[codecarbon INFO @ 16:18:46] Delta energy consumed for CPU with constant : 0.000169 kWh, power : 42.5 W\n",
            "[codecarbon INFO @ 16:18:46] Energy consumed for All CPU : 0.000603 kWh\n",
            "[codecarbon INFO @ 16:18:46] 0.000744 kWh of electricity used since the beginning.\n",
            "[codecarbon WARNING @ 16:18:58] Already started tracking\n",
            "[codecarbon WARNING @ 16:18:58] Tracker already stopped !\n",
            "[codecarbon INFO @ 16:18:58] Energy consumed for RAM : 0.000173 kWh. RAM Power : 10.0 W\n",
            "[codecarbon INFO @ 16:18:58] Delta energy consumed for CPU with constant : 0.000135 kWh, power : 42.5 W\n",
            "[codecarbon INFO @ 16:18:58] Energy consumed for All CPU : 0.000738 kWh\n",
            "[codecarbon INFO @ 16:18:58] 0.000911 kWh of electricity used since the beginning.\n",
            "[codecarbon WARNING @ 16:19:09] Multiple instances of codecarbon are allowed to run at the same time.\n",
            "[codecarbon INFO @ 16:19:09] [setup] RAM Tracking...\n",
            "[codecarbon INFO @ 16:19:09] [setup] CPU Tracking...\n",
            "[codecarbon WARNING @ 16:19:10] We saw that you have a Intel(R) Xeon(R) CPU @ 2.20GHz but we don't know it. Please contact us.\n",
            "[codecarbon WARNING @ 16:19:10] No CPU tracking mode found. Falling back on estimation based on TDP for CPU. \n",
            " Linux OS detected: Please ensure RAPL files exist at /sys/class/powercap/intel-rapl/subsystem to measure CPU\n",
            "\n",
            "[codecarbon INFO @ 16:19:10] CPU Model on constant consumption mode: Intel(R) Xeon(R) CPU @ 2.20GHz\n",
            "[codecarbon WARNING @ 16:19:10] No CPU tracking mode found. Falling back on CPU constant mode.\n",
            "[codecarbon INFO @ 16:19:10] [setup] GPU Tracking...\n",
            "[codecarbon INFO @ 16:19:10] No GPU found.\n",
            "[codecarbon INFO @ 16:19:10] The below tracking methods have been set up:\n",
            "                RAM Tracking Method: RAM power estimation model\n",
            "                CPU Tracking Method: global constant\n",
            "                GPU Tracking Method: Unspecified\n",
            "            \n",
            "[codecarbon INFO @ 16:19:10] >>> Tracker's metadata:\n",
            "[codecarbon INFO @ 16:19:10]   Platform system: Linux-6.1.123+-x86_64-with-glibc2.35\n",
            "[codecarbon INFO @ 16:19:10]   Python version: 3.11.12\n",
            "[codecarbon INFO @ 16:19:10]   CodeCarbon version: 3.0.1\n",
            "[codecarbon INFO @ 16:19:10]   Available RAM : 12.674 GB\n",
            "[codecarbon INFO @ 16:19:10]   CPU count: 2 thread(s) in 1 physical CPU(s)\n",
            "[codecarbon INFO @ 16:19:10]   CPU model: Intel(R) Xeon(R) CPU @ 2.20GHz\n",
            "[codecarbon INFO @ 16:19:10]   GPU count: None\n",
            "[codecarbon INFO @ 16:19:10]   GPU model: None\n",
            "[codecarbon INFO @ 16:19:10] Emissions data (if any) will be saved to file /content/emissions.csv\n",
            "[codecarbon INFO @ 16:19:10] Energy consumed for RAM : 0.000000 kWh. RAM Power : 10.0 W\n",
            "[codecarbon INFO @ 16:19:10] Delta energy consumed for CPU with constant : 0.000000 kWh, power : 42.5 W\n",
            "[codecarbon INFO @ 16:19:10] Energy consumed for All CPU : 0.000000 kWh\n",
            "[codecarbon INFO @ 16:19:10] 0.000001 kWh of electricity used since the beginning.\n",
            "[codecarbon WARNING @ 16:19:11] Already started tracking\n",
            "[codecarbon WARNING @ 16:19:11] Tracker already stopped !\n",
            "[codecarbon INFO @ 16:19:11] Energy consumed for RAM : 0.000001 kWh. RAM Power : 10.0 W\n",
            "[codecarbon INFO @ 16:19:11] Delta energy consumed for CPU with constant : 0.000004 kWh, power : 42.5 W\n",
            "[codecarbon INFO @ 16:19:11] Energy consumed for All CPU : 0.000005 kWh\n",
            "[codecarbon INFO @ 16:19:11] 0.000006 kWh of electricity used since the beginning.\n"
          ]
        },
        {
          "output_type": "stream",
          "name": "stdout",
          "text": [
            "Emissões de carbono estimadas: 3.6292065182659235e-07 kg CO₂\n"
          ]
        },
        {
          "output_type": "stream",
          "name": "stderr",
          "text": [
            "[codecarbon WARNING @ 16:19:22] Already started tracking\n",
            "[codecarbon WARNING @ 16:19:22] Tracker already stopped !\n",
            "[codecarbon INFO @ 16:19:22] Energy consumed for RAM : 0.000033 kWh. RAM Power : 10.0 W\n",
            "[codecarbon INFO @ 16:19:22] Delta energy consumed for CPU with constant : 0.000136 kWh, power : 42.5 W\n",
            "[codecarbon INFO @ 16:19:22] Energy consumed for All CPU : 0.000141 kWh\n",
            "[codecarbon INFO @ 16:19:22] 0.000174 kWh of electricity used since the beginning.\n",
            "[codecarbon WARNING @ 16:19:34] Already started tracking\n",
            "[codecarbon WARNING @ 16:19:34] Tracker already stopped !\n",
            "[codecarbon INFO @ 16:19:34] Energy consumed for RAM : 0.000065 kWh. RAM Power : 10.0 W\n",
            "[codecarbon INFO @ 16:19:34] Delta energy consumed for CPU with constant : 0.000134 kWh, power : 42.5 W\n",
            "[codecarbon INFO @ 16:19:34] Energy consumed for All CPU : 0.000275 kWh\n",
            "[codecarbon INFO @ 16:19:34] 0.000340 kWh of electricity used since the beginning.\n",
            "[codecarbon WARNING @ 16:19:44] Multiple instances of codecarbon are allowed to run at the same time.\n",
            "[codecarbon INFO @ 16:19:44] [setup] RAM Tracking...\n",
            "[codecarbon INFO @ 16:19:44] [setup] CPU Tracking...\n",
            "[codecarbon WARNING @ 16:19:45] We saw that you have a Intel(R) Xeon(R) CPU @ 2.20GHz but we don't know it. Please contact us.\n",
            "[codecarbon WARNING @ 16:19:45] No CPU tracking mode found. Falling back on estimation based on TDP for CPU. \n",
            " Linux OS detected: Please ensure RAPL files exist at /sys/class/powercap/intel-rapl/subsystem to measure CPU\n",
            "\n",
            "[codecarbon INFO @ 16:19:45] CPU Model on constant consumption mode: Intel(R) Xeon(R) CPU @ 2.20GHz\n",
            "[codecarbon WARNING @ 16:19:45] No CPU tracking mode found. Falling back on CPU constant mode.\n",
            "[codecarbon INFO @ 16:19:45] [setup] GPU Tracking...\n",
            "[codecarbon INFO @ 16:19:45] No GPU found.\n",
            "[codecarbon INFO @ 16:19:45] The below tracking methods have been set up:\n",
            "                RAM Tracking Method: RAM power estimation model\n",
            "                CPU Tracking Method: global constant\n",
            "                GPU Tracking Method: Unspecified\n",
            "            \n",
            "[codecarbon INFO @ 16:19:45] >>> Tracker's metadata:\n",
            "[codecarbon INFO @ 16:19:45]   Platform system: Linux-6.1.123+-x86_64-with-glibc2.35\n",
            "[codecarbon INFO @ 16:19:45]   Python version: 3.11.12\n",
            "[codecarbon INFO @ 16:19:45]   CodeCarbon version: 3.0.1\n",
            "[codecarbon INFO @ 16:19:45]   Available RAM : 12.674 GB\n",
            "[codecarbon INFO @ 16:19:45]   CPU count: 2 thread(s) in 1 physical CPU(s)\n",
            "[codecarbon INFO @ 16:19:45]   CPU model: Intel(R) Xeon(R) CPU @ 2.20GHz\n",
            "[codecarbon INFO @ 16:19:45]   GPU count: None\n",
            "[codecarbon INFO @ 16:19:45]   GPU model: None\n",
            "[codecarbon INFO @ 16:19:46] Emissions data (if any) will be saved to file /content/emissions.csv\n",
            "[codecarbon INFO @ 16:19:46] Energy consumed for RAM : 0.000000 kWh. RAM Power : 10.0 W\n",
            "[codecarbon INFO @ 16:19:46] Delta energy consumed for CPU with constant : 0.000002 kWh, power : 42.5 W\n",
            "[codecarbon INFO @ 16:19:46] Energy consumed for All CPU : 0.000002 kWh\n",
            "[codecarbon INFO @ 16:19:46] 0.000002 kWh of electricity used since the beginning.\n",
            "[codecarbon WARNING @ 16:19:57] Already started tracking\n",
            "[codecarbon WARNING @ 16:19:58] Tracker already stopped !\n",
            "[codecarbon INFO @ 16:19:58] Energy consumed for RAM : 0.000032 kWh. RAM Power : 10.0 W\n",
            "[codecarbon INFO @ 16:19:58] Delta energy consumed for CPU with constant : 0.000133 kWh, power : 42.5 W\n",
            "[codecarbon INFO @ 16:19:58] Energy consumed for All CPU : 0.000134 kWh\n",
            "[codecarbon INFO @ 16:19:58] 0.000166 kWh of electricity used since the beginning.\n",
            "[codecarbon WARNING @ 16:20:08] Already started tracking\n",
            "[codecarbon WARNING @ 16:20:08] Tracker already stopped !\n",
            "[codecarbon INFO @ 16:20:08] Energy consumed for RAM : 0.000062 kWh. RAM Power : 10.0 W\n",
            "[codecarbon INFO @ 16:20:08] Delta energy consumed for CPU with constant : 0.000128 kWh, power : 42.5 W\n",
            "[codecarbon INFO @ 16:20:08] Energy consumed for All CPU : 0.000262 kWh\n",
            "[codecarbon INFO @ 16:20:08] 0.000324 kWh of electricity used since the beginning.\n"
          ]
        },
        {
          "output_type": "stream",
          "name": "stdout",
          "text": [
            "Emissões de carbono estimadas (OSMnx): 0.0003161563852434329 kg CO₂\n",
            "Pipeline OSMnx concluída. PDFs gerados.\n"
          ]
        }
      ]
    },
    {
      "cell_type": "code",
      "source": [
        "labels = ['Dijkstra', 'Dijkstra MinHeap', 'OSMnx']\n",
        "values = [carb_dijkstra, carb_dijkstra_min_heap, carb_ox]\n",
        "plt.figure()\n",
        "plt.bar(labels, values)\n",
        "plt.ylabel('Emissões (kg CO₂)')\n",
        "plt.title('Comparação de Emissões de Carbono entre Métodos')\n",
        "plt.tight_layout()\n",
        "plt.show()"
      ],
      "metadata": {
        "id": "0LBWm4lFJxda",
        "colab": {
          "base_uri": "https://localhost:8080/",
          "height": 487
        },
        "outputId": "84869afa-81e9-4ed9-c485-65859e3b1e39"
      },
      "execution_count": 19,
      "outputs": [
        {
          "output_type": "display_data",
          "data": {
            "text/plain": [
              "<Figure size 640x480 with 1 Axes>"
            ],
            "image/png": "[encoded data removed]"
          },
          "metadata": {}
        }
      ]
    },
    {
      "cell_type": "code",
      "source": [
        "labels = ['Dijkstra', 'Dijkstra MinHeap', 'OSMnx']\n",
        "values = [time_dijkstra, time_dijkstra_min_heap, time_ox]\n",
        "plt.figure()\n",
        "plt.bar(labels, values)\n",
        "plt.ylabel('Tempo de execução (s)')\n",
        "plt.title('Comparação de tempo entre os métodos')\n",
        "plt.tight_layout()\n",
        "plt.show()"
      ],
      "metadata": {
        "id": "8FeEV-gcMFRg",
        "colab": {
          "base_uri": "https://localhost:8080/",
          "height": 487
        },
        "outputId": "07fb1c4e-2e94-409c-961c-3754ed3c52e0"
      },
      "execution_count": 20,
      "outputs": [
        {
          "output_type": "display_data",
          "data": {
            "text/plain": [
              "<Figure size 640x480 with 1 Axes>"
            ],
            "image/png": "[encoded data removed]"
          },
          "metadata": {}
        }
      ]
    },
    {
      "cell_type": "code",
      "source": [
        "G_undirected = G.to_undirected()"
      ],
      "metadata": {
        "id": "qvLofr1uPzAb"
      },
      "execution_count": null,
      "outputs": []
    },
    {
      "cell_type": "code",
      "source": [
        "for component in nx.connected_components(G_undirected):\n",
        "    print(component)"
      ],
      "metadata": {
        "id": "-l0uP9KxP0uS"
      },
      "execution_count": null,
      "outputs": []
    }
  ]
}